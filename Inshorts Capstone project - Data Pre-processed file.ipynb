{
 "cells": [
  {
   "cell_type": "markdown",
   "metadata": {},
   "source": [
    "First step would be to import all the necessary libraries. Since this is an NLP problem hence we'll have to mostly deal with strings."
   ]
  },
  {
   "cell_type": "code",
   "execution_count": 1,
   "metadata": {},
   "outputs": [],
   "source": [
    "import re\n",
    "import string\n",
    "import pandas as pd\n",
    "import nltk"
   ]
  },
  {
   "cell_type": "code",
   "execution_count": 2,
   "metadata": {},
   "outputs": [],
   "source": [
    "df = pd.read_csv(\"Inshorts App Data.csv\")"
   ]
  },
  {
   "cell_type": "code",
   "execution_count": 3,
   "metadata": {},
   "outputs": [
    {
     "data": {
      "text/html": [
       "<div>\n",
       "<style scoped>\n",
       "    .dataframe tbody tr th:only-of-type {\n",
       "        vertical-align: middle;\n",
       "    }\n",
       "\n",
       "    .dataframe tbody tr th {\n",
       "        vertical-align: top;\n",
       "    }\n",
       "\n",
       "    .dataframe thead th {\n",
       "        text-align: right;\n",
       "    }\n",
       "</style>\n",
       "<table border=\"1\" class=\"dataframe\">\n",
       "  <thead>\n",
       "    <tr style=\"text-align: right;\">\n",
       "      <th></th>\n",
       "      <th>Headline</th>\n",
       "      <th>Short</th>\n",
       "      <th>Source</th>\n",
       "      <th>Time</th>\n",
       "      <th>Publish Date</th>\n",
       "      <th>Subject</th>\n",
       "    </tr>\n",
       "  </thead>\n",
       "  <tbody>\n",
       "    <tr>\n",
       "      <th>0</th>\n",
       "      <td>Was stopped from entering my own studio at Tim...</td>\n",
       "      <td>TV news anchor Arnab Goswami has said he was t...</td>\n",
       "      <td>YouTube</td>\n",
       "      <td>23:24:00</td>\n",
       "      <td>3/25/2017</td>\n",
       "      <td>Politics</td>\n",
       "    </tr>\n",
       "    <tr>\n",
       "      <th>1</th>\n",
       "      <td>New trailer of &amp;#39;Justice League&amp;#39; released</td>\n",
       "      <td>A new trailer for the upcoming superhero film ...</td>\n",
       "      <td>YouTube</td>\n",
       "      <td>21:50:00</td>\n",
       "      <td>3/25/2017</td>\n",
       "      <td>Entertainment</td>\n",
       "    </tr>\n",
       "    <tr>\n",
       "      <th>2</th>\n",
       "      <td>His touch was not right: Shilpa Shinde on sexu...</td>\n",
       "      <td>Television actress Shilpa Shinde, while openin...</td>\n",
       "      <td>The Quint</td>\n",
       "      <td>21:18:00</td>\n",
       "      <td>3/25/2017</td>\n",
       "      <td>Entertainment</td>\n",
       "    </tr>\n",
       "    <tr>\n",
       "      <th>3</th>\n",
       "      <td>Anti-Romeo squads must not trouble consenting ...</td>\n",
       "      <td>Uttar Pradesh Chief Minister Yogi Adityanath, ...</td>\n",
       "      <td>ANI</td>\n",
       "      <td>23:05:00</td>\n",
       "      <td>3/25/2017</td>\n",
       "      <td>Politics</td>\n",
       "    </tr>\n",
       "    <tr>\n",
       "      <th>4</th>\n",
       "      <td>Both Romeo and Juliet are welcome in Delhi: AA...</td>\n",
       "      <td>In an apparent jibe at UP&amp;#39;s anti-Romeo squ...</td>\n",
       "      <td>India Today</td>\n",
       "      <td>9:26:00</td>\n",
       "      <td>3/26/2017</td>\n",
       "      <td>Politics</td>\n",
       "    </tr>\n",
       "  </tbody>\n",
       "</table>\n",
       "</div>"
      ],
      "text/plain": [
       "                                            Headline  \\\n",
       "0  Was stopped from entering my own studio at Tim...   \n",
       "1   New trailer of &#39;Justice League&#39; released   \n",
       "2  His touch was not right: Shilpa Shinde on sexu...   \n",
       "3  Anti-Romeo squads must not trouble consenting ...   \n",
       "4  Both Romeo and Juliet are welcome in Delhi: AA...   \n",
       "\n",
       "                                               Short      Source      Time   \\\n",
       "0  TV news anchor Arnab Goswami has said he was t...      YouTube  23:24:00   \n",
       "1  A new trailer for the upcoming superhero film ...      YouTube  21:50:00   \n",
       "2  Television actress Shilpa Shinde, while openin...    The Quint  21:18:00   \n",
       "3  Uttar Pradesh Chief Minister Yogi Adityanath, ...          ANI  23:05:00   \n",
       "4  In an apparent jibe at UP&#39;s anti-Romeo squ...  India Today   9:26:00   \n",
       "\n",
       "  Publish Date        Subject  \n",
       "0    3/25/2017       Politics  \n",
       "1    3/25/2017  Entertainment  \n",
       "2    3/25/2017  Entertainment  \n",
       "3    3/25/2017       Politics  \n",
       "4    3/26/2017       Politics  "
      ]
     },
     "execution_count": 3,
     "metadata": {},
     "output_type": "execute_result"
    }
   ],
   "source": [
    "df.head()"
   ]
  },
  {
   "cell_type": "markdown",
   "metadata": {},
   "source": [
    "\n",
    "\n",
    "The data suggests us that the column 'Subject' would be our target variable. We have to build a model that helps us in predicting about the news subject it belongs to based on the other feature variables. Prima facie observation of the data tells us that the columns 'Source', 'Time' and 'Publish Date' would help us little in achieving our goal hence it is best to drop \n",
    "them & continue with our problem. \n",
    "\n",
    "\n",
    "\n",
    "\n"
   ]
  },
  {
   "cell_type": "code",
   "execution_count": 4,
   "metadata": {},
   "outputs": [
    {
     "data": {
      "text/plain": [
       "Index(['Headline', 'Short', 'Source ', 'Time ', 'Publish Date', 'Subject'], dtype='object')"
      ]
     },
     "execution_count": 4,
     "metadata": {},
     "output_type": "execute_result"
    }
   ],
   "source": [
    "df.columns"
   ]
  },
  {
   "cell_type": "code",
   "execution_count": 7,
   "metadata": {},
   "outputs": [],
   "source": [
    "df.drop(['Source ','Time ','Publish Date'], axis =1, inplace= True)"
   ]
  },
  {
   "cell_type": "code",
   "execution_count": 8,
   "metadata": {},
   "outputs": [
    {
     "data": {
      "text/html": [
       "<div>\n",
       "<style scoped>\n",
       "    .dataframe tbody tr th:only-of-type {\n",
       "        vertical-align: middle;\n",
       "    }\n",
       "\n",
       "    .dataframe tbody tr th {\n",
       "        vertical-align: top;\n",
       "    }\n",
       "\n",
       "    .dataframe thead th {\n",
       "        text-align: right;\n",
       "    }\n",
       "</style>\n",
       "<table border=\"1\" class=\"dataframe\">\n",
       "  <thead>\n",
       "    <tr style=\"text-align: right;\">\n",
       "      <th></th>\n",
       "      <th>Headline</th>\n",
       "      <th>Short</th>\n",
       "      <th>Subject</th>\n",
       "    </tr>\n",
       "  </thead>\n",
       "  <tbody>\n",
       "    <tr>\n",
       "      <th>0</th>\n",
       "      <td>Was stopped from entering my own studio at Tim...</td>\n",
       "      <td>TV news anchor Arnab Goswami has said he was t...</td>\n",
       "      <td>Politics</td>\n",
       "    </tr>\n",
       "    <tr>\n",
       "      <th>1</th>\n",
       "      <td>New trailer of &amp;#39;Justice League&amp;#39; released</td>\n",
       "      <td>A new trailer for the upcoming superhero film ...</td>\n",
       "      <td>Entertainment</td>\n",
       "    </tr>\n",
       "    <tr>\n",
       "      <th>2</th>\n",
       "      <td>His touch was not right: Shilpa Shinde on sexu...</td>\n",
       "      <td>Television actress Shilpa Shinde, while openin...</td>\n",
       "      <td>Entertainment</td>\n",
       "    </tr>\n",
       "    <tr>\n",
       "      <th>3</th>\n",
       "      <td>Anti-Romeo squads must not trouble consenting ...</td>\n",
       "      <td>Uttar Pradesh Chief Minister Yogi Adityanath, ...</td>\n",
       "      <td>Politics</td>\n",
       "    </tr>\n",
       "    <tr>\n",
       "      <th>4</th>\n",
       "      <td>Both Romeo and Juliet are welcome in Delhi: AA...</td>\n",
       "      <td>In an apparent jibe at UP&amp;#39;s anti-Romeo squ...</td>\n",
       "      <td>Politics</td>\n",
       "    </tr>\n",
       "  </tbody>\n",
       "</table>\n",
       "</div>"
      ],
      "text/plain": [
       "                                            Headline  \\\n",
       "0  Was stopped from entering my own studio at Tim...   \n",
       "1   New trailer of &#39;Justice League&#39; released   \n",
       "2  His touch was not right: Shilpa Shinde on sexu...   \n",
       "3  Anti-Romeo squads must not trouble consenting ...   \n",
       "4  Both Romeo and Juliet are welcome in Delhi: AA...   \n",
       "\n",
       "                                               Short        Subject  \n",
       "0  TV news anchor Arnab Goswami has said he was t...       Politics  \n",
       "1  A new trailer for the upcoming superhero film ...  Entertainment  \n",
       "2  Television actress Shilpa Shinde, while openin...  Entertainment  \n",
       "3  Uttar Pradesh Chief Minister Yogi Adityanath, ...       Politics  \n",
       "4  In an apparent jibe at UP&#39;s anti-Romeo squ...       Politics  "
      ]
     },
     "execution_count": 8,
     "metadata": {},
     "output_type": "execute_result"
    }
   ],
   "source": [
    "df.head()"
   ]
  },
  {
   "cell_type": "markdown",
   "metadata": {},
   "source": [
    "Both 'Headline' & 'Short' has content that can help us in the identification of the news subject they belong to. Our strategy would be to transform the two feature variables to such an extent where they would be ready for us to quantify them and apply a statistical approach.\n",
    "Therefore following are the cleaning steps that we are going to undertake:\n",
    "\n",
    "1.) Removing special characters such as  $,@,#,! etc."
   ]
  },
  {
   "cell_type": "markdown",
   "metadata": {},
   "source": [
    "2.) Removing punctuations such as  ,.:; etc."
   ]
  },
  {
   "cell_type": "markdown",
   "metadata": {},
   "source": [
    "3.) Removing numbers such as 123,4,5 etc."
   ]
  },
  {
   "cell_type": "markdown",
   "metadata": {},
   "source": [
    "4.) Converting strings to lowercase."
   ]
  },
  {
   "cell_type": "markdown",
   "metadata": {},
   "source": [
    "5.) Removing stopwords such as i,me,myself (in total 179 elements)."
   ]
  },
  {
   "cell_type": "markdown",
   "metadata": {},
   "source": [
    "6.) Stemming or Lemmatization based on which helps."
   ]
  },
  {
   "cell_type": "markdown",
   "metadata": {},
   "source": [
    "Steps 1 to 4 can be directly embedded into the function as they require 1 line of code. For steps five and six we need to create seperate functions which could then be further used as part of the main function."
   ]
  },
  {
   "cell_type": "code",
   "execution_count": 9,
   "metadata": {},
   "outputs": [],
   "source": [
    "from nltk.tokenize import ToktokTokenizer\n",
    "tokenizer = ToktokTokenizer()\n"
   ]
  },
  {
   "cell_type": "code",
   "execution_count": 11,
   "metadata": {},
   "outputs": [
    {
     "data": {
      "text/plain": [
       "['i',\n",
       " 'me',\n",
       " 'my',\n",
       " 'myself',\n",
       " 'we',\n",
       " 'our',\n",
       " 'ours',\n",
       " 'ourselves',\n",
       " 'you',\n",
       " \"you're\",\n",
       " \"you've\",\n",
       " \"you'll\",\n",
       " \"you'd\",\n",
       " 'your',\n",
       " 'yours',\n",
       " 'yourself',\n",
       " 'yourselves',\n",
       " 'he',\n",
       " 'him',\n",
       " 'his',\n",
       " 'himself',\n",
       " 'she',\n",
       " \"she's\",\n",
       " 'her',\n",
       " 'hers',\n",
       " 'herself',\n",
       " 'it',\n",
       " \"it's\",\n",
       " 'its',\n",
       " 'itself',\n",
       " 'they',\n",
       " 'them',\n",
       " 'their',\n",
       " 'theirs',\n",
       " 'themselves',\n",
       " 'what',\n",
       " 'which',\n",
       " 'who',\n",
       " 'whom',\n",
       " 'this',\n",
       " 'that',\n",
       " \"that'll\",\n",
       " 'these',\n",
       " 'those',\n",
       " 'am',\n",
       " 'is',\n",
       " 'are',\n",
       " 'was',\n",
       " 'were',\n",
       " 'be',\n",
       " 'been',\n",
       " 'being',\n",
       " 'have',\n",
       " 'has',\n",
       " 'had',\n",
       " 'having',\n",
       " 'do',\n",
       " 'does',\n",
       " 'did',\n",
       " 'doing',\n",
       " 'a',\n",
       " 'an',\n",
       " 'the',\n",
       " 'and',\n",
       " 'but',\n",
       " 'if',\n",
       " 'or',\n",
       " 'because',\n",
       " 'as',\n",
       " 'until',\n",
       " 'while',\n",
       " 'of',\n",
       " 'at',\n",
       " 'by',\n",
       " 'for',\n",
       " 'with',\n",
       " 'about',\n",
       " 'against',\n",
       " 'between',\n",
       " 'into',\n",
       " 'through',\n",
       " 'during',\n",
       " 'before',\n",
       " 'after',\n",
       " 'above',\n",
       " 'below',\n",
       " 'to',\n",
       " 'from',\n",
       " 'up',\n",
       " 'down',\n",
       " 'in',\n",
       " 'out',\n",
       " 'on',\n",
       " 'off',\n",
       " 'over',\n",
       " 'under',\n",
       " 'again',\n",
       " 'further',\n",
       " 'then',\n",
       " 'once',\n",
       " 'here',\n",
       " 'there',\n",
       " 'when',\n",
       " 'where',\n",
       " 'why',\n",
       " 'how',\n",
       " 'all',\n",
       " 'any',\n",
       " 'both',\n",
       " 'each',\n",
       " 'few',\n",
       " 'more',\n",
       " 'most',\n",
       " 'other',\n",
       " 'some',\n",
       " 'such',\n",
       " 'no',\n",
       " 'nor',\n",
       " 'not',\n",
       " 'only',\n",
       " 'own',\n",
       " 'same',\n",
       " 'so',\n",
       " 'than',\n",
       " 'too',\n",
       " 'very',\n",
       " 's',\n",
       " 't',\n",
       " 'can',\n",
       " 'will',\n",
       " 'just',\n",
       " 'don',\n",
       " \"don't\",\n",
       " 'should',\n",
       " \"should've\",\n",
       " 'now',\n",
       " 'd',\n",
       " 'll',\n",
       " 'm',\n",
       " 'o',\n",
       " 're',\n",
       " 've',\n",
       " 'y',\n",
       " 'ain',\n",
       " 'aren',\n",
       " \"aren't\",\n",
       " 'couldn',\n",
       " \"couldn't\",\n",
       " 'didn',\n",
       " \"didn't\",\n",
       " 'doesn',\n",
       " \"doesn't\",\n",
       " 'hadn',\n",
       " \"hadn't\",\n",
       " 'hasn',\n",
       " \"hasn't\",\n",
       " 'haven',\n",
       " \"haven't\",\n",
       " 'isn',\n",
       " \"isn't\",\n",
       " 'ma',\n",
       " 'mightn',\n",
       " \"mightn't\",\n",
       " 'mustn',\n",
       " \"mustn't\",\n",
       " 'needn',\n",
       " \"needn't\",\n",
       " 'shan',\n",
       " \"shan't\",\n",
       " 'shouldn',\n",
       " \"shouldn't\",\n",
       " 'wasn',\n",
       " \"wasn't\",\n",
       " 'weren',\n",
       " \"weren't\",\n",
       " 'won',\n",
       " \"won't\",\n",
       " 'wouldn',\n",
       " \"wouldn't\"]"
      ]
     },
     "execution_count": 11,
     "metadata": {},
     "output_type": "execute_result"
    }
   ],
   "source": [
    "stopword_list = nltk.corpus.stopwords.words('english')\n",
    "stopword_list"
   ]
  },
  {
   "cell_type": "code",
   "execution_count": 12,
   "metadata": {},
   "outputs": [],
   "source": [
    "def remove_stopwords(text):\n",
    "    tokens = tokenizer.tokenize(text)\n",
    "    tokens = [token.strip() for token in tokens]\n",
    "    t =[token for token in tokens if token.lower() not in stopword_list]\n",
    "    text = ' '.join(t)\n",
    "    return text"
   ]
  },
  {
   "cell_type": "code",
   "execution_count": 13,
   "metadata": {},
   "outputs": [],
   "source": [
    "def get_stem(text):\n",
    "    stemmer = nltk.porter.PorterStemmer()\n",
    "    text = ' '.join([stemmer.stem(word) for word in text.split()])\n",
    "    return text"
   ]
  },
  {
   "cell_type": "code",
   "execution_count": 14,
   "metadata": {},
   "outputs": [],
   "source": [
    "from nltk.stem import WordNetLemmatizer"
   ]
  },
  {
   "cell_type": "code",
   "execution_count": 15,
   "metadata": {},
   "outputs": [],
   "source": [
    "wordnet_lemmatizer = WordNetLemmatizer()"
   ]
  },
  {
   "cell_type": "code",
   "execution_count": 16,
   "metadata": {},
   "outputs": [],
   "source": [
    "def lemma(message):\n",
    "    k =[]\n",
    "    for word in message.split():\n",
    "        k.append(wordnet_lemmatizer.lemmatize(word))\n",
    "    return ' '.join([m for m in k])    "
   ]
  },
  {
   "cell_type": "markdown",
   "metadata": {},
   "source": [
    "Since now we are done with basic functions its time for us to finally make an overarching function which gives us the required output. Also whether Stemming works or Lemmatization, we need to identify it by comparing the two results."
   ]
  },
  {
   "cell_type": "code",
   "execution_count": 17,
   "metadata": {},
   "outputs": [],
   "source": [
    "def final_lemma(text):\n",
    "    pat = r'[$@#!&]'\n",
    "    special_removed = re.sub(pat,'',text)\n",
    "    punc_removed = ''.join([c for c in special_removed if c not in string.punctuation])\n",
    "    num_removed= re.sub(r'\\d+',\"\",punc_removed)\n",
    "    lower = num_removed.lower()\n",
    "    stop_removed = remove_stopwords(lower)\n",
    "    return lemma(stop_removed)\n",
    "    \n",
    "    "
   ]
  },
  {
   "cell_type": "code",
   "execution_count": 18,
   "metadata": {},
   "outputs": [],
   "source": [
    "def final_stem(text):\n",
    "    pat = r'[$@#!&]'\n",
    "    special_removed = re.sub(pat,'',text)\n",
    "    punc_removed = ''.join([c for c in special_removed if c not in string.punctuation])\n",
    "    num_removed= re.sub(r'\\d+',\"\",punc_removed)\n",
    "    lower = num_removed.lower()\n",
    "    stop_removed = remove_stopwords(lower)\n",
    "    return get_stem(stop_removed)"
   ]
  },
  {
   "cell_type": "code",
   "execution_count": 19,
   "metadata": {},
   "outputs": [],
   "source": [
    "df['Headline_lemma'] = df['Headline'].apply(final_lemma)"
   ]
  },
  {
   "cell_type": "code",
   "execution_count": 20,
   "metadata": {},
   "outputs": [
    {
     "data": {
      "text/plain": [
       "0                       stopped entering studio time arnab\n",
       "1                      new trailer justice league released\n",
       "2              touch right shilpa shinde sexual harassment\n",
       "3        antiromeo squad must trouble consenting youth ...\n",
       "4                  romeo juliet welcome delhi aap minister\n",
       "                               ...                        \n",
       "25191                     delhi govt school asked work day\n",
       "25192                 compromise gujarat govt hardik patel\n",
       "25193             want play putin screen leonardo dicaprio\n",
       "25194                      sensex loses point hit week low\n",
       "25195           ghulam ali set make acting debut bollywood\n",
       "Name: Headline_lemma, Length: 25196, dtype: object"
      ]
     },
     "execution_count": 20,
     "metadata": {},
     "output_type": "execute_result"
    }
   ],
   "source": [
    "df['Headline_lemma']"
   ]
  },
  {
   "cell_type": "code",
   "execution_count": 21,
   "metadata": {},
   "outputs": [],
   "source": [
    "df['Headline_stem'] = df['Headline'].apply(final_stem)"
   ]
  },
  {
   "cell_type": "code",
   "execution_count": 22,
   "metadata": {},
   "outputs": [
    {
     "data": {
      "text/plain": [
       "0                          stop enter studio time arnab\n",
       "1                       new trailer justic leagu releas\n",
       "2                touch right shilpa shind sexual harass\n",
       "3        antiromeo squad must troubl consent youth yogi\n",
       "4                  romeo juliet welcom delhi aap minist\n",
       "                              ...                      \n",
       "25191                    delhi govt school ask work day\n",
       "25192               compromis gujarat govt hardik patel\n",
       "25193          want play putin screen leonardo dicaprio\n",
       "25194                    sensex lose point hit week low\n",
       "25195           ghulam ali set make act debut bollywood\n",
       "Name: Headline_stem, Length: 25196, dtype: object"
      ]
     },
     "execution_count": 22,
     "metadata": {},
     "output_type": "execute_result"
    }
   ],
   "source": [
    "df['Headline_stem']"
   ]
  },
  {
   "cell_type": "markdown",
   "metadata": {},
   "source": [
    "\n",
    "\n",
    "As can be seen from the comparison of the two outputs that the Stemmed transformation has resulted in the formation of some absurd words such as leagu,justic,releas,welcom,troubl etc. Hence we will drop that result and go forward with the lemmatized transformation.  "
   ]
  },
  {
   "cell_type": "code",
   "execution_count": 23,
   "metadata": {},
   "outputs": [
    {
     "data": {
      "text/plain": [
       "Index(['Headline', 'Short', 'Subject', 'Headline_lemma', 'Headline_stem'], dtype='object')"
      ]
     },
     "execution_count": 23,
     "metadata": {},
     "output_type": "execute_result"
    }
   ],
   "source": [
    "df.columns"
   ]
  },
  {
   "cell_type": "code",
   "execution_count": 24,
   "metadata": {},
   "outputs": [],
   "source": [
    "df.drop('Headline_stem', axis =1, inplace = True)"
   ]
  },
  {
   "cell_type": "code",
   "execution_count": 25,
   "metadata": {},
   "outputs": [
    {
     "data": {
      "text/html": [
       "<div>\n",
       "<style scoped>\n",
       "    .dataframe tbody tr th:only-of-type {\n",
       "        vertical-align: middle;\n",
       "    }\n",
       "\n",
       "    .dataframe tbody tr th {\n",
       "        vertical-align: top;\n",
       "    }\n",
       "\n",
       "    .dataframe thead th {\n",
       "        text-align: right;\n",
       "    }\n",
       "</style>\n",
       "<table border=\"1\" class=\"dataframe\">\n",
       "  <thead>\n",
       "    <tr style=\"text-align: right;\">\n",
       "      <th></th>\n",
       "      <th>Headline</th>\n",
       "      <th>Short</th>\n",
       "      <th>Subject</th>\n",
       "      <th>Headline_lemma</th>\n",
       "    </tr>\n",
       "  </thead>\n",
       "  <tbody>\n",
       "    <tr>\n",
       "      <th>0</th>\n",
       "      <td>Was stopped from entering my own studio at Tim...</td>\n",
       "      <td>TV news anchor Arnab Goswami has said he was t...</td>\n",
       "      <td>Politics</td>\n",
       "      <td>stopped entering studio time arnab</td>\n",
       "    </tr>\n",
       "    <tr>\n",
       "      <th>1</th>\n",
       "      <td>New trailer of &amp;#39;Justice League&amp;#39; released</td>\n",
       "      <td>A new trailer for the upcoming superhero film ...</td>\n",
       "      <td>Entertainment</td>\n",
       "      <td>new trailer justice league released</td>\n",
       "    </tr>\n",
       "    <tr>\n",
       "      <th>2</th>\n",
       "      <td>His touch was not right: Shilpa Shinde on sexu...</td>\n",
       "      <td>Television actress Shilpa Shinde, while openin...</td>\n",
       "      <td>Entertainment</td>\n",
       "      <td>touch right shilpa shinde sexual harassment</td>\n",
       "    </tr>\n",
       "    <tr>\n",
       "      <th>3</th>\n",
       "      <td>Anti-Romeo squads must not trouble consenting ...</td>\n",
       "      <td>Uttar Pradesh Chief Minister Yogi Adityanath, ...</td>\n",
       "      <td>Politics</td>\n",
       "      <td>antiromeo squad must trouble consenting youth ...</td>\n",
       "    </tr>\n",
       "    <tr>\n",
       "      <th>4</th>\n",
       "      <td>Both Romeo and Juliet are welcome in Delhi: AA...</td>\n",
       "      <td>In an apparent jibe at UP&amp;#39;s anti-Romeo squ...</td>\n",
       "      <td>Politics</td>\n",
       "      <td>romeo juliet welcome delhi aap minister</td>\n",
       "    </tr>\n",
       "  </tbody>\n",
       "</table>\n",
       "</div>"
      ],
      "text/plain": [
       "                                            Headline  \\\n",
       "0  Was stopped from entering my own studio at Tim...   \n",
       "1   New trailer of &#39;Justice League&#39; released   \n",
       "2  His touch was not right: Shilpa Shinde on sexu...   \n",
       "3  Anti-Romeo squads must not trouble consenting ...   \n",
       "4  Both Romeo and Juliet are welcome in Delhi: AA...   \n",
       "\n",
       "                                               Short        Subject  \\\n",
       "0  TV news anchor Arnab Goswami has said he was t...       Politics   \n",
       "1  A new trailer for the upcoming superhero film ...  Entertainment   \n",
       "2  Television actress Shilpa Shinde, while openin...  Entertainment   \n",
       "3  Uttar Pradesh Chief Minister Yogi Adityanath, ...       Politics   \n",
       "4  In an apparent jibe at UP&#39;s anti-Romeo squ...       Politics   \n",
       "\n",
       "                                      Headline_lemma  \n",
       "0                 stopped entering studio time arnab  \n",
       "1                new trailer justice league released  \n",
       "2        touch right shilpa shinde sexual harassment  \n",
       "3  antiromeo squad must trouble consenting youth ...  \n",
       "4            romeo juliet welcome delhi aap minister  "
      ]
     },
     "execution_count": 25,
     "metadata": {},
     "output_type": "execute_result"
    }
   ],
   "source": [
    "df.head()"
   ]
  },
  {
   "cell_type": "markdown",
   "metadata": {},
   "source": [
    "Now we will apply the same function to the 'Short' column as well. After that we need to remove the original columns as they are now of no use and the transformed columns will do the task for us."
   ]
  },
  {
   "cell_type": "code",
   "execution_count": 26,
   "metadata": {},
   "outputs": [],
   "source": [
    "df['Short_lemma'] = df['Short'].apply(final_lemma)"
   ]
  },
  {
   "cell_type": "code",
   "execution_count": 27,
   "metadata": {},
   "outputs": [
    {
     "data": {
      "text/plain": [
       "0        tv news anchor arnab goswami said told could p...\n",
       "1        new trailer upcoming superhero film justice le...\n",
       "2        television actress shilpa shinde opening claim...\n",
       "3        uttar pradesh chief minister yogi adityanath v...\n",
       "4        apparent jibe ups antiromeo squad delhi touris...\n",
       "                               ...                        \n",
       "25191    delhi government tuesday notified government s...\n",
       "25192    patidar leader hardik patel tuesday rejected p...\n",
       "25193    hollywood actor leonardo dicaprio recently exp...\n",
       "25194    tracking weak cue asian market benchmark sense...\n",
       "25195    pakistani ghazal singer ghulam ali soon make a...\n",
       "Name: Short_lemma, Length: 25196, dtype: object"
      ]
     },
     "execution_count": 27,
     "metadata": {},
     "output_type": "execute_result"
    }
   ],
   "source": [
    "df['Short_lemma']"
   ]
  },
  {
   "cell_type": "code",
   "execution_count": 28,
   "metadata": {},
   "outputs": [
    {
     "data": {
      "text/plain": [
       "Index(['Headline', 'Short', 'Subject', 'Headline_lemma', 'Short_lemma'], dtype='object')"
      ]
     },
     "execution_count": 28,
     "metadata": {},
     "output_type": "execute_result"
    }
   ],
   "source": [
    "df.columns"
   ]
  },
  {
   "cell_type": "code",
   "execution_count": 29,
   "metadata": {},
   "outputs": [],
   "source": [
    "df.drop(['Headline', 'Short'], axis =1, inplace = True )"
   ]
  },
  {
   "cell_type": "code",
   "execution_count": 30,
   "metadata": {},
   "outputs": [
    {
     "data": {
      "text/html": [
       "<div>\n",
       "<style scoped>\n",
       "    .dataframe tbody tr th:only-of-type {\n",
       "        vertical-align: middle;\n",
       "    }\n",
       "\n",
       "    .dataframe tbody tr th {\n",
       "        vertical-align: top;\n",
       "    }\n",
       "\n",
       "    .dataframe thead th {\n",
       "        text-align: right;\n",
       "    }\n",
       "</style>\n",
       "<table border=\"1\" class=\"dataframe\">\n",
       "  <thead>\n",
       "    <tr style=\"text-align: right;\">\n",
       "      <th></th>\n",
       "      <th>Subject</th>\n",
       "      <th>Headline_lemma</th>\n",
       "      <th>Short_lemma</th>\n",
       "    </tr>\n",
       "  </thead>\n",
       "  <tbody>\n",
       "    <tr>\n",
       "      <th>0</th>\n",
       "      <td>Politics</td>\n",
       "      <td>stopped entering studio time arnab</td>\n",
       "      <td>tv news anchor arnab goswami said told could p...</td>\n",
       "    </tr>\n",
       "    <tr>\n",
       "      <th>1</th>\n",
       "      <td>Entertainment</td>\n",
       "      <td>new trailer justice league released</td>\n",
       "      <td>new trailer upcoming superhero film justice le...</td>\n",
       "    </tr>\n",
       "    <tr>\n",
       "      <th>2</th>\n",
       "      <td>Entertainment</td>\n",
       "      <td>touch right shilpa shinde sexual harassment</td>\n",
       "      <td>television actress shilpa shinde opening claim...</td>\n",
       "    </tr>\n",
       "    <tr>\n",
       "      <th>3</th>\n",
       "      <td>Politics</td>\n",
       "      <td>antiromeo squad must trouble consenting youth ...</td>\n",
       "      <td>uttar pradesh chief minister yogi adityanath v...</td>\n",
       "    </tr>\n",
       "    <tr>\n",
       "      <th>4</th>\n",
       "      <td>Politics</td>\n",
       "      <td>romeo juliet welcome delhi aap minister</td>\n",
       "      <td>apparent jibe ups antiromeo squad delhi touris...</td>\n",
       "    </tr>\n",
       "  </tbody>\n",
       "</table>\n",
       "</div>"
      ],
      "text/plain": [
       "         Subject                                     Headline_lemma  \\\n",
       "0       Politics                 stopped entering studio time arnab   \n",
       "1  Entertainment                new trailer justice league released   \n",
       "2  Entertainment        touch right shilpa shinde sexual harassment   \n",
       "3       Politics  antiromeo squad must trouble consenting youth ...   \n",
       "4       Politics            romeo juliet welcome delhi aap minister   \n",
       "\n",
       "                                         Short_lemma  \n",
       "0  tv news anchor arnab goswami said told could p...  \n",
       "1  new trailer upcoming superhero film justice le...  \n",
       "2  television actress shilpa shinde opening claim...  \n",
       "3  uttar pradesh chief minister yogi adityanath v...  \n",
       "4  apparent jibe ups antiromeo squad delhi touris...  "
      ]
     },
     "execution_count": 30,
     "metadata": {},
     "output_type": "execute_result"
    }
   ],
   "source": [
    "df.head()"
   ]
  },
  {
   "cell_type": "markdown",
   "metadata": {},
   "source": [
    "Now we will save this data frame as csv file which could be further used for next steps."
   ]
  },
  {
   "cell_type": "code",
   "execution_count": 31,
   "metadata": {},
   "outputs": [
    {
     "data": {
      "text/plain": [
       "'C:\\\\Users\\\\admin\\\\Downloads\\\\Capstone Project - Inshorts'"
      ]
     },
     "execution_count": 31,
     "metadata": {},
     "output_type": "execute_result"
    }
   ],
   "source": [
    "pwd"
   ]
  },
  {
   "cell_type": "code",
   "execution_count": 32,
   "metadata": {},
   "outputs": [],
   "source": [
    "df.to_csv(r'C:\\\\Users\\\\admin\\\\Downloads\\\\Capstone Project - Inshorts\\inshorts data preprocessed.csv', index = False)"
   ]
  },
  {
   "cell_type": "code",
   "execution_count": null,
   "metadata": {},
   "outputs": [],
   "source": []
  }
 ],
 "metadata": {
  "kernelspec": {
   "display_name": "Python 3",
   "language": "python",
   "name": "python3"
  },
  "language_info": {
   "codemirror_mode": {
    "name": "ipython",
    "version": 3
   },
   "file_extension": ".py",
   "mimetype": "text/x-python",
   "name": "python",
   "nbconvert_exporter": "python",
   "pygments_lexer": "ipython3",
   "version": "3.7.4"
  }
 },
 "nbformat": 4,
 "nbformat_minor": 4
}
